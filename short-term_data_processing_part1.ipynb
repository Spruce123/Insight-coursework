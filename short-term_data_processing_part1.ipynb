{
 "cells": [
  {
   "cell_type": "code",
   "execution_count": 15,
   "metadata": {},
   "outputs": [
    {
     "data": {
      "text/plain": [
       "[<matplotlib.lines.Line2D at 0x7f283bdffb00>]"
      ]
     },
     "execution_count": 15,
     "metadata": {},
     "output_type": "execute_result"
    },
    {
     "data": {
      "image/png": "[encoded data removed]",
      "text/plain": [
       "<Figure size 432x288 with 2 Axes>"
      ]
     },
     "metadata": {
      "needs_background": "light"
     },
     "output_type": "display_data"
    }
   ],
   "source": [
    "# https://www.investing.com/crypto/tether/usdt-usd-historical-data\n",
    "%matplotlib inline\n",
    "import matplotlib.pyplot as plt\n",
    "import pandas as pd\n",
    "df = pd.read_csv(\"USDT_USD.csv\")\n",
    "d_list = df.Date.values.tolist()\n",
    "l_list = df.Low.values.tolist()\n",
    "h_list = df.High.values.tolist()\n",
    "p_list = df.Price.values.tolist()\n",
    "price_list = []\n",
    "for p in p_list:\n",
    "    price_list.append(round(float(p.replace(\",\", \"\"))))\n",
    "l_list.reverse()\n",
    "h_list.reverse()\n",
    "price_list.reverse()\n",
    "d_list.reverse()\n",
    "df['Low'] = l_list\n",
    "df['High'] = h_list\n",
    "df['Price'] = price_list\n",
    "df['Date'] = d_list\n",
    "df.to_csv('USDT_USD.csv',index=False)\n",
    "plt.subplot(2,1,1)\n",
    "plt.plot(l_list)\n",
    "plt.subplot(2,1,2)\n",
    "plt.plot(price_list)\n",
    "# plt.subplot(3,1,3)\n",
    "# plt.plot(h_list)"
   ]
  },
  {
   "cell_type": "code",
   "execution_count": null,
   "metadata": {},
   "outputs": [],
   "source": []
  },
  {
   "cell_type": "markdown",
   "metadata": {},
   "source": [
    "Here are the processing the data of 'bitfinex short position short-term'"
   ]
  },
  {
   "cell_type": "code",
   "execution_count": 16,
   "metadata": {},
   "outputs": [
    {
     "name": "stdout",
     "output_type": "stream",
     "text": [
      "0.2\n",
      "profit in USD: 10296.16650170234\n",
      "0.21000000000000002\n",
      "profit in USD: 10659.537735991642\n",
      "0.22\n",
      "profit in USD: 10486.135785401915\n",
      "0.23\n",
      "profit in USD: 9711.929296595761\n",
      "0.24000000000000002\n",
      "profit in USD: 10169.20679499587\n",
      "0.25\n",
      "profit in USD: 9226.395854142676\n",
      "0.26\n",
      "profit in USD: 9229.830840900286\n",
      "0.27\n",
      "profit in USD: 9089.971921451674\n",
      "0.28\n",
      "profit in USD: 8910.707836137553\n",
      "0.29000000000000004\n",
      "profit in USD: 8620.014832926277\n",
      "0.30000000000000004\n",
      "profit in USD: 8074.264101268349\n",
      "0.31\n",
      "profit in USD: 8462.451090395854\n",
      "0.32\n",
      "profit in USD: 8147.7784923044055\n",
      "0.33\n",
      "profit in USD: 8732.223388266411\n",
      "0.34\n",
      "profit in USD: 8638.17158160844\n",
      "0.35\n",
      "profit in USD: 8326.6626073915\n",
      "0.36\n",
      "profit in USD: 8284.716022521076\n",
      "0.37\n",
      "profit in USD: 9086.11447068425\n",
      "0.38\n",
      "profit in USD: 9113.37237233411\n",
      "0.39\n",
      "profit in USD: 9145.110865950952\n",
      "0.4\n",
      "profit in USD: 8833.45199744844\n",
      "0.41000000000000003\n",
      "profit in USD: 8679.121609743233\n",
      "0.42000000000000004\n",
      "profit in USD: 9131.304754727244\n",
      "0.43000000000000005\n",
      "profit in USD: 9164.320547995194\n",
      "0.44\n",
      "profit in USD: 9407.789986668005\n",
      "0.45\n",
      "profit in USD: 8818.151369655083\n",
      "0.46\n",
      "profit in USD: 9342.280067112504\n",
      "0.47000000000000003\n",
      "profit in USD: 10045.88531652851\n",
      "0.48000000000000004\n",
      "profit in USD: 13514.871587706708\n",
      "0.49\n",
      "profit in USD: 12837.01316030775\n",
      "0.5\n",
      "profit in USD: 13176.476454750256\n",
      "0.51\n",
      "profit in USD: 12742.513919025096\n",
      "0.52\n",
      "profit in USD: 11912.202331564102\n",
      "0.53\n",
      "profit in USD: 10692.508789257583\n",
      "0.54\n",
      "profit in USD: 13672.15384287036\n",
      "0.55\n",
      "profit in USD: 14894.797950855296\n",
      "0.56\n",
      "profit in USD: 13517.292578111734\n",
      "0.5700000000000001\n",
      "profit in USD: 13565.481746152094\n",
      "0.5800000000000001\n",
      "profit in USD: 12894.953657035985\n",
      "0.5900000000000001\n",
      "profit in USD: 10158.890174483477\n",
      "0.6000000000000001\n",
      "profit in USD: 10437.472860521673\n",
      "0.6100000000000001\n",
      "profit in USD: 10434.399721822552\n",
      "0.62\n",
      "profit in USD: 12987.515006622867\n",
      "0.63\n",
      "profit in USD: 13482.147860745019\n",
      "0.64\n",
      "profit in USD: 13446.155897095334\n",
      "0.65\n",
      "profit in USD: 13417.962621730177\n",
      "0.66\n",
      "profit in USD: 13756.251442258737\n",
      "0.67\n",
      "profit in USD: 12320.818902810603\n",
      "0.6799999999999999\n",
      "profit in USD: 14170.98177523982\n",
      "0.69\n",
      "profit in USD: 13684.669387872418\n"
     ]
    }
   ],
   "source": [
    "import numpy\n",
    "import pandas as pd\n",
    "df =pd.read_csv('BTCSHORTLONG_01.csv')\n",
    "s_list = df.short.values.tolist()\n",
    "price_list = df.price.values.tolist()\n",
    "cor_list = []\n",
    "n = 160\n",
    "for i in range(n):\n",
    "    cor_list.append(0)\n",
    "sell_flag = False\n",
    "\n",
    "buy = -0.85\n",
    "for i in range(50):\n",
    "    cash_sum = 10000\n",
    "    coin_sum = 0\n",
    "    sell = 0.2 + i* 0.01\n",
    "    print(sell)\n",
    "    for i in range(n,len(price_list)):\n",
    "        c = numpy.corrcoef(price_list[i-n:i+1],s_list[i-n:i+1])[0, 1]\n",
    "        if(c > sell):\n",
    "            cor_list.append(c)\n",
    "            if(not sell_flag):\n",
    "                sell_flag = True\n",
    "                coin_sum = -cash_sum/price_list[i]\n",
    "                cash_sum = cash_sum*2\n",
    "    #             print('sell in '+ str(price_list[i]))\n",
    "        else:\n",
    "            cor_list.append(0)\n",
    "            if(sell_flag):\n",
    "                if(c < buy):\n",
    "                    sell_flag = False\n",
    "                    cash_sum = cash_sum + coin_sum*price_list[i]\n",
    "                    coin_sum = 0\n",
    "    #                 print('buy in '+ str(price_list[i]))\n",
    "    if(sell_flag):\n",
    "        cash_sum = cash_sum + coin_sum*price_list[i]\n",
    "        coin_sum = 0\n",
    "    #     print('buy in '+ str(price_list[i]))\n",
    "    print('profit in USD: '+ str(cash_sum - 10000))\n",
    "\n"
   ]
  },
  {
   "cell_type": "code",
   "execution_count": 18,
   "metadata": {},
   "outputs": [
    {
     "name": "stdout",
     "output_type": "stream",
     "text": [
      "-0.5\n",
      "profit in USD: 248.70069816192336\n",
      "-0.51\n",
      "profit in USD: 630.6146422354523\n",
      "-0.52\n",
      "profit in USD: 1434.6158994780453\n",
      "-0.53\n",
      "profit in USD: 1551.9993998892296\n",
      "-0.54\n",
      "profit in USD: 2683.8298180671536\n",
      "-0.55\n",
      "profit in USD: 2547.8047255807232\n",
      "-0.56\n",
      "profit in USD: 3249.097171582567\n",
      "-0.5700000000000001\n",
      "profit in USD: 4008.4685410543134\n",
      "-0.58\n",
      "profit in USD: 4289.918252110207\n",
      "-0.59\n",
      "profit in USD: 3846.380825551236\n",
      "-0.6\n",
      "profit in USD: 3720.6028072220415\n",
      "-0.61\n",
      "profit in USD: 4099.342320151796\n",
      "-0.62\n",
      "profit in USD: 4117.890503231565\n",
      "-0.63\n",
      "profit in USD: 3602.898728788292\n",
      "-0.64\n",
      "profit in USD: 3851.518524748324\n",
      "-0.65\n",
      "profit in USD: 4684.491934169515\n",
      "-0.66\n",
      "profit in USD: 4773.864388377029\n",
      "-0.67\n",
      "profit in USD: 5132.645353716516\n",
      "-0.6799999999999999\n",
      "profit in USD: 5414.688376096092\n",
      "-0.69\n",
      "profit in USD: 5094.4528540326155\n",
      "-0.7\n",
      "profit in USD: 4922.053641605116\n",
      "-0.71\n",
      "profit in USD: 5801.6408929317095\n",
      "-0.72\n",
      "profit in USD: 7687.2276327913605\n",
      "-0.73\n",
      "profit in USD: 7287.44314729422\n",
      "-0.74\n",
      "profit in USD: 8083.311745711522\n",
      "-0.75\n",
      "profit in USD: 7490.278108191582\n",
      "-0.76\n",
      "profit in USD: 7457.626424544207\n",
      "-0.77\n",
      "profit in USD: 9415.465197436399\n",
      "-0.78\n",
      "profit in USD: 9776.257293051414\n",
      "-0.79\n",
      "profit in USD: 12368.661057272053\n",
      "-0.8\n",
      "profit in USD: 12854.991814643341\n",
      "-0.81\n",
      "profit in USD: 13082.080857602181\n",
      "-0.8200000000000001\n",
      "profit in USD: 13749.687546907415\n",
      "-0.8300000000000001\n",
      "profit in USD: 14105.285986699415\n",
      "-0.8400000000000001\n",
      "profit in USD: 15178.481204771044\n",
      "-0.8500000000000001\n",
      "profit in USD: 14894.797950855296\n",
      "-0.86\n",
      "profit in USD: 15492.985488117934\n",
      "-0.87\n",
      "profit in USD: 12526.060413603904\n",
      "-0.88\n",
      "profit in USD: 10228.167165022536\n",
      "-0.89\n",
      "profit in USD: 12709.081924131908\n"
     ]
    }
   ],
   "source": [
    "import numpy\n",
    "import pandas as pd\n",
    "df =pd.read_csv('BTCSHORTLONG_01.csv')\n",
    "s_list = df.short.values.tolist()\n",
    "price_list = df.price.values.tolist()\n",
    "cor_list = []\n",
    "n = 160\n",
    "for i in range(n):\n",
    "    cor_list.append(0)\n",
    "sell_flag = False\n",
    "sell = 0.55\n",
    "# buy = -0.85\n",
    "for i in range(40):\n",
    "    cash_sum = 10000\n",
    "    coin_sum = 0\n",
    "    buy = -0.5 - i* 0.01\n",
    "    print(buy)\n",
    "    for i in range(n,len(price_list)):\n",
    "        c = numpy.corrcoef(price_list[i-n:i+1],s_list[i-n:i+1])[0, 1]\n",
    "        if(c > sell):\n",
    "            cor_list.append(c)\n",
    "            if(not sell_flag):\n",
    "                sell_flag = True\n",
    "                coin_sum = -cash_sum/price_list[i]\n",
    "                cash_sum = cash_sum*2\n",
    "    #             print('sell in '+ str(price_list[i]))\n",
    "        else:\n",
    "            cor_list.append(0)\n",
    "            if(sell_flag):\n",
    "                if(c < buy):\n",
    "                    sell_flag = False\n",
    "                    cash_sum = cash_sum + coin_sum*price_list[i]\n",
    "                    coin_sum = 0\n",
    "    #                 print('buy in '+ str(price_list[i]))\n",
    "    if(sell_flag):\n",
    "        cash_sum = cash_sum + coin_sum*price_list[i]\n",
    "        coin_sum = 0\n",
    "    #     print('buy in '+ str(price_list[i]))\n",
    "    print('profit in USD: '+ str(cash_sum - 10000))"
   ]
  },
  {
   "cell_type": "code",
   "execution_count": 20,
   "metadata": {},
   "outputs": [
    {
     "name": "stdout",
     "output_type": "stream",
     "text": [
      "50\n",
      "profit in USD: -1154.6420366434759\n",
      "53\n",
      "profit in USD: -786.8492876247892\n",
      "56\n",
      "profit in USD: -1650.886723954609\n",
      "59\n",
      "profit in USD: -2041.5800756728559\n",
      "62\n",
      "profit in USD: -558.0310752539735\n",
      "65\n",
      "profit in USD: 116.99865382563803\n",
      "68\n",
      "profit in USD: 1699.7159847879338\n",
      "71\n",
      "profit in USD: 1662.0859978878016\n",
      "74\n",
      "profit in USD: 3064.145911222662\n",
      "77\n",
      "profit in USD: 5076.5732505066935\n",
      "80\n",
      "profit in USD: 6519.777294892559\n",
      "83\n",
      "profit in USD: 3097.739758982274\n",
      "86\n",
      "profit in USD: 1482.6242597568653\n",
      "89\n",
      "profit in USD: 3340.920384610912\n",
      "92\n",
      "profit in USD: 5925.622283478606\n",
      "95\n",
      "profit in USD: 5988.927838163603\n",
      "98\n",
      "profit in USD: 4335.989616660754\n",
      "101\n",
      "profit in USD: 3120.660837796284\n",
      "104\n",
      "profit in USD: 3459.6687789743683\n",
      "107\n",
      "profit in USD: 4973.745993602493\n",
      "110\n",
      "profit in USD: 5550.008697360361\n",
      "113\n",
      "profit in USD: 4831.7430132915815\n",
      "116\n",
      "profit in USD: 7023.748283298974\n",
      "119\n",
      "profit in USD: 6768.344378755115\n",
      "122\n",
      "profit in USD: 7109.115850889346\n",
      "125\n",
      "profit in USD: 7670.456856794881\n",
      "128\n",
      "profit in USD: 7353.899546466975\n",
      "131\n",
      "profit in USD: 7919.821025074787\n",
      "134\n",
      "profit in USD: 6528.665441839941\n",
      "137\n",
      "profit in USD: 8262.391447909129\n",
      "140\n",
      "profit in USD: 7119.19187447225\n",
      "143\n",
      "profit in USD: 8208.440451013714\n",
      "146\n",
      "profit in USD: 11315.942893017207\n",
      "149\n",
      "profit in USD: 12890.744696387981\n",
      "152\n",
      "profit in USD: 14593.080740086705\n",
      "155\n",
      "profit in USD: 15580.849098485858\n",
      "158\n",
      "profit in USD: 17637.296179123055\n",
      "161\n",
      "profit in USD: 13583.502538561952\n",
      "164\n",
      "profit in USD: 9179.95985869467\n",
      "167\n",
      "profit in USD: 9850.791578228887\n",
      "170\n",
      "profit in USD: 10151.74363998925\n",
      "173\n",
      "profit in USD: 10041.278818493545\n",
      "176\n",
      "profit in USD: 9428.736592413738\n",
      "179\n",
      "profit in USD: 11998.974360717068\n",
      "182\n",
      "profit in USD: 10132.927681137506\n",
      "185\n",
      "profit in USD: 9577.22990577203\n",
      "188\n",
      "profit in USD: 10649.96749598358\n",
      "191\n",
      "profit in USD: 11979.661743082648\n",
      "194\n",
      "profit in USD: 12055.653979888732\n",
      "197\n",
      "profit in USD: 9474.869576179852\n",
      "200\n",
      "profit in USD: 9763.053245077273\n",
      "203\n",
      "profit in USD: 9912.25236091487\n",
      "206\n",
      "profit in USD: 11687.786427758241\n",
      "209\n",
      "profit in USD: 11046.278342910213\n",
      "212\n",
      "profit in USD: 10575.22404435158\n",
      "215\n",
      "profit in USD: 11152.370736491423\n",
      "218\n",
      "profit in USD: 11008.725286853249\n",
      "221\n",
      "profit in USD: 10904.63222999769\n",
      "224\n",
      "profit in USD: 11352.317485298343\n",
      "227\n",
      "profit in USD: 11846.097095333585\n",
      "230\n",
      "profit in USD: 9062.595819654955\n",
      "233\n",
      "profit in USD: 10171.491179028275\n",
      "236\n",
      "profit in USD: 10672.323785930446\n",
      "239\n",
      "profit in USD: 9251.194092304042\n",
      "242\n",
      "profit in USD: 10326.066824096673\n",
      "245\n",
      "profit in USD: 9821.25141528574\n",
      "248\n",
      "profit in USD: 11154.48206351465\n",
      "251\n",
      "profit in USD: 10075.038295837334\n",
      "254\n",
      "profit in USD: 9686.777642301247\n",
      "257\n",
      "profit in USD: 9115.699096574532\n"
     ]
    }
   ],
   "source": [
    "import numpy\n",
    "import pandas as pd\n",
    "df =pd.read_csv('BTCSHORTLONG_01.csv')\n",
    "s_list = df.short.values.tolist()\n",
    "price_list = df.price.values.tolist()\n",
    "# cor_list = []\n",
    "# n = 160\n",
    "for i in range(n):\n",
    "    cor_list.append(0)\n",
    "sell_flag = False\n",
    "sell = 0.55\n",
    "buy = -0.85\n",
    "for i in range(70):\n",
    "    cash_sum = 10000\n",
    "    coin_sum = 0\n",
    "    n = 50 + i* 3\n",
    "    print(n)\n",
    "    for i in range(n,len(price_list)):\n",
    "        c = numpy.corrcoef(price_list[i-n:i+1],s_list[i-n:i+1])[0, 1]\n",
    "        if(c > sell):\n",
    "#             cor_list.append(c)\n",
    "            if(not sell_flag):\n",
    "                sell_flag = True\n",
    "                coin_sum = -cash_sum/price_list[i]\n",
    "                cash_sum = cash_sum*2\n",
    "    #             print('sell in '+ str(price_list[i]))\n",
    "        else:\n",
    "#             cor_list.append(0)\n",
    "            if(sell_flag):\n",
    "                if(c < buy):\n",
    "                    sell_flag = False\n",
    "                    cash_sum = cash_sum + coin_sum*price_list[i]\n",
    "                    coin_sum = 0\n",
    "    #                 print('buy in '+ str(price_list[i]))\n",
    "    if(sell_flag):\n",
    "        cash_sum = cash_sum + coin_sum*price_list[i]\n",
    "        coin_sum = 0\n",
    "    #     print('buy in '+ str(price_list[i]))\n",
    "    print('profit in USD: '+ str(cash_sum - 10000))"
   ]
  },
  {
   "cell_type": "code",
   "execution_count": 23,
   "metadata": {},
   "outputs": [
    {
     "name": "stdout",
     "output_type": "stream",
     "text": [
      "sell in 14969\n",
      "buy in 10264\n",
      "sell in 11328\n",
      "buy in 9814\n",
      "sell in 8601\n",
      "buy in 6267\n",
      "sell in 11751\n",
      "buy in 9486\n",
      "sell in 8756\n",
      "buy in 8185\n",
      "sell in 7378\n",
      "buy in 8073\n",
      "sell in 8383\n",
      "buy in 8870\n",
      "sell in 9240\n",
      "buy in 7433\n",
      "sell in 6572\n",
      "buy in 7435\n",
      "sell in 8186\n",
      "buy in 7676\n",
      "sell in 7465\n",
      "buy in 6993\n",
      "sell in 6913\n",
      "buy in 6406\n",
      "sell in 6190\n",
      "buy in 6252\n",
      "sell in 6612\n",
      "buy in 6490\n",
      "sell in 6692\n",
      "buy in 6320\n",
      "sell in 6577\n",
      "not buy yet, buy in 6548\n",
      "profit in USD: 17637.296179123055\n"
     ]
    }
   ],
   "source": [
    "import numpy\n",
    "import pandas as pd\n",
    "df =pd.read_csv('BTCSHORTLONG_01.csv')\n",
    "s_list = df.short.values.tolist()\n",
    "price_list = df.price.values.tolist()\n",
    "cor_list = []\n",
    "n = 158\n",
    "for i in range(n):\n",
    "    cor_list.append(0)\n",
    "sell_flag = False\n",
    "sell = 0.55\n",
    "buy = -0.85\n",
    "\n",
    "cash_sum = 10000\n",
    "coin_sum = 0\n",
    "for i in range(n,len(price_list)):\n",
    "    c = numpy.corrcoef(price_list[i-n:i+1],s_list[i-n:i+1])[0, 1]\n",
    "    if(c > sell):\n",
    "        cor_list.append(c)\n",
    "        if(not sell_flag):\n",
    "            sell_flag = True\n",
    "            coin_sum = -cash_sum/price_list[i]\n",
    "            cash_sum = cash_sum*2\n",
    "            print('sell in '+ str(price_list[i]))\n",
    "    else:\n",
    "        cor_list.append(0)\n",
    "        if(sell_flag):\n",
    "            if(c < buy):\n",
    "                sell_flag = False\n",
    "                cash_sum = cash_sum + coin_sum*price_list[i]\n",
    "                coin_sum = 0\n",
    "                print('buy in '+ str(price_list[i]))\n",
    "if(sell_flag):\n",
    "    cash_sum = cash_sum + coin_sum*price_list[i]\n",
    "    coin_sum = 0\n",
    "    print('not buy yet, buy in '+ str(price_list[i]))\n",
    "print('profit in USD: '+ str(cash_sum - 10000))"
   ]
  },
  {
   "cell_type": "code",
   "execution_count": 22,
   "metadata": {},
   "outputs": [
    {
     "data": {
      "text/plain": [
       "[<matplotlib.lines.Line2D at 0x7f2c2f0f8da0>]"
      ]
     },
     "execution_count": 22,
     "metadata": {},
     "output_type": "execute_result"
    },
    {
     "data": {
      "image/png": "[encoded data removed]",
      "text/plain": [
       "<Figure size 432x288 with 2 Axes>"
      ]
     },
     "metadata": {
      "needs_background": "light"
     },
     "output_type": "display_data"
    }
   ],
   "source": [
    "%matplotlib inline\n",
    "import matplotlib.pyplot as plt\n",
    "plt.subplot(2,1,1)\n",
    "plt.plot(price_list)\n",
    "plt.subplot(2,1,2)\n",
    "plt.plot(cor_list)"
   ]
  },
  {
   "cell_type": "code",
   "execution_count": 10,
   "metadata": {},
   "outputs": [
    {
     "name": "stdout",
     "output_type": "stream",
     "text": [
      "2018-01-08 21:30 sell in 14969\n",
      "2018-01-23 08:00 buy in 10264\n",
      "2018-01-29 14:00 sell in 11328\n",
      "2018-01-31 05:30 buy in 9814\n",
      "2018-02-02 19:30 sell in 8601\n",
      "2018-02-06 05:30 buy in 6267\n",
      "2018-02-20 22:30 sell in 11751\n",
      "2018-02-26 09:30 buy in 9486\n",
      "2018-03-10 23:30 sell in 8756\n",
      "2018-03-14 22:30 buy in 8185\n",
      "2018-03-18 16:00 sell in 7378\n",
      "2018-03-26 15:30 buy in 8073\n",
      "2018-04-16 02:00 sell in 8383\n",
      "2018-04-22 07:30 buy in 8870\n",
      "2018-04-27 04:30 sell in 9240\n",
      "2018-06-05 12:30 buy in 7433\n",
      "2018-07-07 16:00 sell in 6572\n",
      "2018-07-18 20:00 buy in 7435\n",
      "2018-07-24 17:00 sell in 8186\n",
      "2018-08-01 02:00 buy in 7676\n",
      "2018-08-03 16:30 sell in 7465\n",
      "2018-08-05 10:30 buy in 6993\n",
      "2018-08-31 14:30 sell in 6913\n",
      "2018-09-06 07:00 buy in 6406\n",
      "2018-09-09 07:30 sell in 6190\n",
      "2018-09-18 01:00 buy in 6252\n",
      "2018-09-24 16:30 sell in 6612\n",
      "2018-10-03 14:30 buy in 6490\n",
      "2018-10-08 20:30 sell in 6692\n",
      "2018-10-11 15:30 buy in 6320\n",
      "2018-10-21 00:30 sell in 6577\n",
      "2018-10-30 16:30 buy in 6340\n",
      "2018-11-09 18:00 sell in 6433\n",
      "2018-11-14 20:00 buy in 5830\n",
      "2018-11-23 15:00 sell in 4416\n",
      "2018-11-25 18:30 buy in 3869\n",
      "2018-12-23 15:30 sell in 3918\n",
      "not buy yet, buy in 3693\n",
      "profit in USD: 27054.1712326478\n"
     ]
    }
   ],
   "source": [
    "import numpy\n",
    "import pandas as pd\n",
    "df =pd.read_csv('BTC_SHORT_03.csv')\n",
    "s_list = df.short.values.tolist()\n",
    "price_list = df.price.values.tolist()\n",
    "T_list = df.Time.values.tolist()\n",
    "# print(len(T_list))\n",
    "cor_list = []\n",
    "n = 158\n",
    "for i in range(n):\n",
    "    cor_list.append(0)\n",
    "sell_flag = False\n",
    "sell = 0.55\n",
    "buy = -0.85\n",
    "\n",
    "cash_sum = 10000\n",
    "coin_sum = 0\n",
    "for i in range(n,len(price_list)):\n",
    "    c = numpy.corrcoef(price_list[i-n:i+1],s_list[i-n:i+1])[0, 1]\n",
    "    if(c > sell):\n",
    "        cor_list.append(c)\n",
    "        if(not sell_flag):\n",
    "            sell_flag = True\n",
    "            coin_sum = -cash_sum/price_list[i]\n",
    "            cash_sum = cash_sum*2\n",
    "            print(T_list[i] + ' sell in '+ str(price_list[i]))\n",
    "    else:\n",
    "        cor_list.append(0)\n",
    "        if(sell_flag):\n",
    "            if(c < buy):\n",
    "                sell_flag = False\n",
    "                cash_sum = cash_sum + coin_sum*price_list[i]\n",
    "                coin_sum = 0\n",
    "                print(T_list[i] + ' buy in '+ str(price_list[i]))\n",
    "if(sell_flag):\n",
    "    cash_sum = cash_sum + coin_sum*price_list[i]\n",
    "    coin_sum = 0\n",
    "    print('not buy yet, buy in '+ str(price_list[i]))\n",
    "print('profit in USD: '+ str(cash_sum - 10000))"
   ]
  },
  {
   "cell_type": "code",
   "execution_count": 16,
   "metadata": {},
   "outputs": [
    {
     "data": {
      "text/plain": [
       "[<matplotlib.lines.Line2D at 0x7f286ec84dd8>]"
      ]
     },
     "execution_count": 16,
     "metadata": {},
     "output_type": "execute_result"
    },
    {
     "data": {
      "image/png": "[encoded data removed]",
      "text/plain": [
       "<Figure size 432x288 with 2 Axes>"
      ]
     },
     "metadata": {
      "needs_background": "light"
     },
     "output_type": "display_data"
    }
   ],
   "source": [
    "import numpy\n",
    "import pandas as pd\n",
    "df =pd.read_csv('BTC_SHORT_03.csv')\n",
    "s_list = df.short.values.tolist()\n",
    "price_list = df.price.values.tolist()\n",
    "T_list = df.Time.values.tolist()\n",
    "# print(len(T_list))\n",
    "cor_list = []\n",
    "profit_list = []\n",
    "n = 158\n",
    "for i in range(n):\n",
    "    cor_list.append(0)\n",
    "    profit_list.append(0)\n",
    "#     profit_list.append(\"{:.2%}\".format(0))\n",
    "sell_flag = False\n",
    "sell = 0.55\n",
    "buy = -0.85\n",
    "\n",
    "cash_sum = 10000\n",
    "coin_sum = 0\n",
    "for i in range(n,len(price_list)):\n",
    "    c = numpy.corrcoef(price_list[i-n:i+1],s_list[i-n:i+1])[0, 1]\n",
    "    if(c > sell):\n",
    "        cor_list.append(c)\n",
    "        if(not sell_flag):\n",
    "            sell_flag = True\n",
    "            coin_sum = -cash_sum/price_list[i]\n",
    "            cash_sum = cash_sum*2\n",
    "#             print(T_list[i] + ' sell in '+ str(price_list[i]))\n",
    "    else:\n",
    "        cor_list.append(0)\n",
    "        if(sell_flag):\n",
    "            if(c < buy):\n",
    "                sell_flag = False\n",
    "                cash_sum = cash_sum + coin_sum*price_list[i]\n",
    "                coin_sum = 0\n",
    "#                 print(T_list[i] + ' buy in '+ str(price_list[i]))\n",
    "    if(i==len(price_list)-1 and sell_flag):\n",
    "        cash_sum = cash_sum + coin_sum*price_list[i]\n",
    "        coin_sum = 0\n",
    "#         print('not buy yet, buy in '+ str(price_list[i]))\n",
    "    profit_list.append((cash_sum + coin_sum*price_list[i] - 10000)/ 10000)\n",
    "#     profit_list.append(\"{:.2%}\".format((cash_sum + coin_sum*price_list[i] - 10000)/ 10000))\n",
    "# print('profit in USD: '+ str(cash_sum - 10000))\n",
    "df['profit'] = profit_list\n",
    "df.to_csv('profit.csv',index=False)\n",
    "%matplotlib inline\n",
    "import matplotlib.pyplot as plt\n",
    "plt.subplot(2,1,1)\n",
    "plt.plot(price_list)\n",
    "plt.subplot(2,1,2)\n",
    "plt.plot(profit_list)"
   ]
  },
  {
   "cell_type": "code",
   "execution_count": 13,
   "metadata": {},
   "outputs": [
    {
     "data": {
      "text/plain": [
       "-0.7628798567249415"
      ]
     },
     "execution_count": 13,
     "metadata": {},
     "output_type": "execute_result"
    }
   ],
   "source": [
    "import numpy\n",
    "numpy.corrcoef(price_list, s_list)[0, 1]"
   ]
  },
  {
   "cell_type": "code",
   "execution_count": 3,
   "metadata": {},
   "outputs": [
    {
     "name": "stdout",
     "output_type": "stream",
     "text": [
      "2018-01-08 21:30 sell in 14969\n",
      "2018-01-05 14:30\n",
      "-1086\n",
      "403\n",
      "0.5549402281073947\n",
      "2018-01-23 08:00 buy in 10264\n",
      "2018-01-29 14:00 sell in 11328\n",
      "2018-01-26 07:00\n",
      "-49\n",
      "8365\n",
      "0.5730197107085868\n",
      "2018-01-31 05:30 buy in 9814\n",
      "2018-02-02 19:30 sell in 8601\n",
      "2018-01-30 12:30\n",
      "-2405\n",
      "-7539\n",
      "0.5614882875994592\n",
      "2018-02-06 05:30 buy in 6267\n",
      "2018-02-20 22:30 sell in 11751\n",
      "2018-02-17 15:30\n",
      "1072\n",
      "5017\n",
      "0.5514270198674031\n",
      "2018-02-26 09:30 buy in 9486\n",
      "2018-03-10 23:30 sell in 8756\n",
      "2018-03-07 16:30\n",
      "-1676\n",
      "2135\n",
      "0.5554083692348205\n",
      "2018-03-14 22:30 buy in 8185\n",
      "2018-03-18 16:00 sell in 7378\n",
      "2018-03-15 09:00\n",
      "-804\n",
      "-3185\n",
      "0.5616440351661773\n",
      "2018-03-26 15:30 buy in 8073\n",
      "2018-04-16 02:00 sell in 8383\n",
      "2018-04-12 19:00\n",
      "688\n",
      "690\n",
      "0.5599401375419234\n",
      "2018-04-22 07:30 buy in 8870\n",
      "2018-04-27 04:30 sell in 9240\n",
      "2018-04-23 21:30\n",
      "368\n",
      "-2855\n",
      "0.5546020536080966\n",
      "2018-06-05 12:30 buy in 7433\n",
      "2018-07-07 16:00 sell in 6572\n",
      "2018-07-04 09:00\n",
      "94\n",
      "-975\n",
      "0.5656198217241278\n",
      "2018-07-18 20:00 buy in 7435\n",
      "2018-07-24 17:00 sell in 8186\n",
      "2018-07-21 10:00\n",
      "874\n",
      "800\n",
      "0.5535892818850018\n",
      "2018-08-01 02:00 buy in 7676\n",
      "2018-08-03 16:30 sell in 7465\n",
      "2018-07-31 09:30\n",
      "-645\n",
      "-1392\n",
      "0.5649543129556797\n",
      "2018-08-05 10:30 buy in 6993\n",
      "2018-08-31 14:30 sell in 6913\n",
      "2018-08-28 07:30\n",
      "1\n",
      "-9170\n",
      "0.5723013836719246\n",
      "2018-09-06 07:00 buy in 6406\n",
      "2018-09-09 07:30 sell in 6190\n",
      "2018-09-06 00:30\n",
      "-713\n",
      "2134\n",
      "0.5813945382238137\n",
      "2018-09-18 01:00 buy in 6252\n",
      "2018-09-24 16:30 sell in 6612\n",
      "2018-09-21 09:30\n",
      "-117\n",
      "-9678\n",
      "0.5673500887228664\n",
      "2018-10-03 14:30 buy in 6490\n",
      "2018-10-08 20:30 sell in 6692\n",
      "2018-10-05 13:30\n",
      "108\n",
      "1634\n",
      "0.5606300403944745\n",
      "2018-10-11 15:30 buy in 6320\n",
      "2018-10-21 00:30 sell in 6577\n",
      "2018-10-17 17:30\n",
      "-157\n",
      "-1370\n",
      "0.5523818676421114\n",
      "2018-10-30 16:30 buy in 6340\n",
      "2018-11-09 18:00 sell in 6433\n",
      "2018-11-06 11:00\n",
      "-53\n",
      "-960\n",
      "0.556752486439258\n",
      "2018-11-14 20:00 buy in 5830\n",
      "2018-11-23 15:00 sell in 4416\n",
      "2018-11-20 08:00\n",
      "-289\n",
      "1949\n",
      "0.5552745128861267\n",
      "2018-11-25 18:30 buy in 3869\n",
      "2018-12-23 15:30 sell in 3918\n",
      "2018-12-20 08:30\n",
      "-8\n",
      "-4798\n",
      "0.6237841136159514\n",
      "not buy yet, buy in 3693\n",
      "profit in USD: 27054.1712326478\n"
     ]
    }
   ],
   "source": [
    "import numpy\n",
    "import pandas as pd\n",
    "df =pd.read_csv('BTC_SHORT_03.csv')\n",
    "s_list = df.short.values.tolist()\n",
    "price_list = df.price.values.tolist()\n",
    "T_list = df.Time.values.tolist()\n",
    "# print(len(T_list))\n",
    "cor_list = []\n",
    "n = 158\n",
    "for i in range(n):\n",
    "    cor_list.append(0)\n",
    "sell_flag = False\n",
    "sell = 0.55\n",
    "buy = -0.85\n",
    "\n",
    "cash_sum = 10000\n",
    "coin_sum = 0\n",
    "for i in range(n,len(price_list)):\n",
    "    c = numpy.corrcoef(price_list[i-n:i+1],s_list[i-n:i+1])[0, 1]\n",
    "    if(c > sell):\n",
    "        cor_list.append(c)\n",
    "        if(not sell_flag):\n",
    "            sell_flag = True\n",
    "            coin_sum = -cash_sum/price_list[i]\n",
    "            cash_sum = cash_sum*2\n",
    "            print(T_list[i] + ' sell in '+ str(price_list[i]))\n",
    "            print(T_list[i-n])\n",
    "            print(price_list[i]-price_list[i-n])\n",
    "            print(s_list[i]-s_list[i-n])\n",
    "            print(c)\n",
    "    else:\n",
    "        cor_list.append(0)\n",
    "        if(sell_flag):\n",
    "            if(c < buy):\n",
    "                sell_flag = False\n",
    "                cash_sum = cash_sum + coin_sum*price_list[i]\n",
    "                coin_sum = 0\n",
    "                print(T_list[i] + ' buy in '+ str(price_list[i]))\n",
    "if(sell_flag):\n",
    "    cash_sum = cash_sum + coin_sum*price_list[i]\n",
    "    coin_sum = 0\n",
    "    print('not buy yet, buy in '+ str(price_list[i]))\n",
    "print('profit in USD: '+ str(cash_sum - 10000))"
   ]
  },
  {
   "cell_type": "code",
   "execution_count": 10,
   "metadata": {},
   "outputs": [
    {
     "name": "stdout",
     "output_type": "stream",
     "text": [
      "2018-07-28 09:00\n"
     ]
    }
   ],
   "source": [
    "print(T_list[10000])"
   ]
  },
  {
   "cell_type": "code",
   "execution_count": null,
   "metadata": {},
   "outputs": [],
   "source": []
  },
  {
   "cell_type": "markdown",
   "metadata": {},
   "source": [
    "Here are the processing the data of 'bitfinex buying short-term'"
   ]
  },
  {
   "cell_type": "code",
   "execution_count": 1,
   "metadata": {},
   "outputs": [
    {
     "name": "stdout",
     "output_type": "stream",
     "text": [
      "[1499503811000, 1499503811000]\n"
     ]
    }
   ],
   "source": [
    "import pandas as pd\n",
    "df_b = pd.read_csv(\"bitfinex_BTCUSD_1499503811000_1540938106535.csv\")\n",
    "df_b[\"total\"] = df_b[\"price\"]*df_b[\"volume\"]\n",
    "price_list = df_b.price.values.tolist()\n",
    "volume_list = df_b.volume.values.tolist()\n",
    "total_list = df_b.total.values.tolist()\n",
    "TS_list = df_b.TS.values.tolist()\n",
    "print(TS_list[:2])"
   ]
  },
  {
   "cell_type": "code",
   "execution_count": 2,
   "metadata": {},
   "outputs": [
    {
     "name": "stdout",
     "output_type": "stream",
     "text": [
      "[0.02624985, 0.03613976]\n"
     ]
    }
   ],
   "source": [
    "print(volume_list[:2])"
   ]
  },
  {
   "cell_type": "code",
   "execution_count": 3,
   "metadata": {},
   "outputs": [],
   "source": [
    "sum_volume_list = []\n",
    "sum_volume = 0\n",
    "sum_total_list = []\n",
    "sum_total = 0\n",
    "for t in range(len(volume_list)):\n",
    "    sum_volume = sum_volume+volume_list[t]\n",
    "    sum_volume_list.append(sum_volume)\n",
    "    sum_total = sum_total+total_list[t]\n",
    "    sum_total_list.append(sum_total)"
   ]
  },
  {
   "cell_type": "code",
   "execution_count": 5,
   "metadata": {},
   "outputs": [
    {
     "name": "stdout",
     "output_type": "stream",
     "text": [
      "44051349\n",
      "44051349\n"
     ]
    }
   ],
   "source": [
    "print(len(sum_total_list))\n",
    "print(len(TS_list))"
   ]
  },
  {
   "cell_type": "code",
   "execution_count": 9,
   "metadata": {},
   "outputs": [],
   "source": [
    "from datetime import datetime\n",
    "def from_ts_to_t(ts):\n",
    "    return datetime.utcfromtimestamp(ts).strftime('%Y-%m-%d')\n",
    "time_list = [from_ts_to_t(TS_list[i]/1000) for i in range(len(TS_list))]"
   ]
  },
  {
   "cell_type": "code",
   "execution_count": 10,
   "metadata": {},
   "outputs": [
    {
     "name": "stdout",
     "output_type": "stream",
     "text": [
      "['2017-07-08', '2017-07-08']\n",
      "44051349\n"
     ]
    }
   ],
   "source": [
    "print(time_list[:2])\n",
    "print(len(time_list))"
   ]
  },
  {
   "cell_type": "code",
   "execution_count": 11,
   "metadata": {},
   "outputs": [],
   "source": [
    "new_time_list = []\n",
    "new_price_list = []\n",
    "new_sum_list = []\n",
    "former_time = ''\n",
    "for i in range(len(TS_list)):\n",
    "    if(time_list[i]  == former_time):\n",
    "        continue\n",
    "    former_time = time_list[i]\n",
    "    new_time_list.append(time_list[i])\n",
    "    new_price_list.append(price_list[i])\n",
    "    new_sum_list.append(sum_total_list[i])"
   ]
  },
  {
   "cell_type": "code",
   "execution_count": 12,
   "metadata": {},
   "outputs": [
    {
     "name": "stdout",
     "output_type": "stream",
     "text": [
      "['2017-07-08', '2017-07-09']\n",
      "479\n"
     ]
    }
   ],
   "source": [
    "print(new_time_list[:2])\n",
    "print(len(new_time_list))"
   ]
  },
  {
   "cell_type": "code",
   "execution_count": 13,
   "metadata": {},
   "outputs": [
    {
     "data": {
      "text/plain": [
       "[<matplotlib.lines.Line2D at 0x7f33db142f98>]"
      ]
     },
     "execution_count": 13,
     "metadata": {},
     "output_type": "execute_result"
    },
    {
     "data": {
      "image/png": "[encoded data removed]",
      "text/plain": [
       "<Figure size 432x288 with 2 Axes>"
      ]
     },
     "metadata": {
      "needs_background": "light"
     },
     "output_type": "display_data"
    }
   ],
   "source": [
    "%matplotlib inline\n",
    "import matplotlib.pyplot as plt\n",
    "plt.subplot(2,1,1)\n",
    "plt.plot(new_price_list)\n",
    "plt.subplot(2,1,2)\n",
    "plt.plot(new_sum_list)"
   ]
  },
  {
   "cell_type": "code",
   "execution_count": 14,
   "metadata": {},
   "outputs": [],
   "source": [
    "cols = ['Time', 'Price', 'Sum']\n",
    "df = pd.DataFrame(columns=cols)\n",
    "df['Time'] = new_time_list\n",
    "df['Price'] = new_price_list\n",
    "df['Sum'] = new_sum_list\n",
    "df.to_csv('bitfinex_btcusd_simple_sum.csv',index=False)"
   ]
  },
  {
   "cell_type": "code",
   "execution_count": null,
   "metadata": {},
   "outputs": [],
   "source": []
  },
  {
   "cell_type": "markdown",
   "metadata": {},
   "source": [
    "Here are the processing the data of 'bitfinex coinbase difference short-term'"
   ]
  },
  {
   "cell_type": "code",
   "execution_count": 1,
   "metadata": {},
   "outputs": [],
   "source": [
    "import pandas as pd\n",
    "df = pd.read_csv(\"temp_1499503811000_1540938106535.csv\")\n",
    "price_list = df.price.values.tolist()\n",
    "differ_list = df.differ.values.tolist()\n",
    "TS_list = df.TS.values.tolist()"
   ]
  },
  {
   "cell_type": "code",
   "execution_count": 2,
   "metadata": {},
   "outputs": [
    {
     "name": "stdout",
     "output_type": "stream",
     "text": [
      "[1499503811000, 1499503811000]\n"
     ]
    }
   ],
   "source": [
    "print(TS_list[:2])"
   ]
  },
  {
   "cell_type": "code",
   "execution_count": 3,
   "metadata": {},
   "outputs": [],
   "source": [
    "from datetime import datetime\n",
    "def from_ts_to_t(ts):\n",
    "    return datetime.utcfromtimestamp(ts).strftime('%Y-%m-%d')\n",
    "time_list = [from_ts_to_t(TS_list[i]/1000) for i in range(len(TS_list))]"
   ]
  },
  {
   "cell_type": "code",
   "execution_count": 8,
   "metadata": {},
   "outputs": [],
   "source": [
    "new_time_list = []\n",
    "new_price_list = []\n",
    "differ_max_list = []\n",
    "differ_min_list = []\n",
    "former_time = ''\n",
    "former_max = 0\n",
    "former_min = 0\n",
    "for i in range(len(TS_list)):\n",
    "    if(former_max < differ_list[i]):\n",
    "        former_max = differ_list[i]\n",
    "    if(former_min > differ_list[i]):\n",
    "        former_min = differ_list[i]\n",
    "    if(time_list[i]  == former_time):\n",
    "        continue\n",
    "    former_time = time_list[i]\n",
    "    new_time_list.append(time_list[i])\n",
    "    new_price_list.append(price_list[i])\n",
    "    differ_max_list.append(former_max)\n",
    "    differ_min_list.append(-former_min)\n",
    "    former_max = 0\n",
    "    former_min = 0"
   ]
  },
  {
   "cell_type": "code",
   "execution_count": 5,
   "metadata": {},
   "outputs": [
    {
     "name": "stdout",
     "output_type": "stream",
     "text": [
      "['2017-07-08', '2017-07-09']\n",
      "480\n"
     ]
    }
   ],
   "source": [
    "print(new_time_list[:2])\n",
    "print(len(new_time_list))"
   ]
  },
  {
   "cell_type": "code",
   "execution_count": 9,
   "metadata": {},
   "outputs": [
    {
     "data": {
      "text/plain": [
       "[<matplotlib.lines.Line2D at 0x7fb308f6f2e8>]"
      ]
     },
     "execution_count": 9,
     "metadata": {},
     "output_type": "execute_result"
    },
    {
     "data": {
      "image/png": "[encoded data removed]",
      "text/plain": [
       "<Figure size 432x288 with 3 Axes>"
      ]
     },
     "metadata": {
      "needs_background": "light"
     },
     "output_type": "display_data"
    }
   ],
   "source": [
    "%matplotlib inline\n",
    "import matplotlib.pyplot as plt\n",
    "plt.subplot(3,1,1)\n",
    "plt.plot(new_price_list)\n",
    "plt.subplot(3,1,2)\n",
    "plt.plot(differ_max_list)\n",
    "plt.subplot(3,1,3)\n",
    "plt.plot(differ_min_list)"
   ]
  },
  {
   "cell_type": "code",
   "execution_count": 10,
   "metadata": {},
   "outputs": [],
   "source": [
    "cols = ['Time', 'Price', 'differ_max', 'differ_min']\n",
    "df = pd.DataFrame(columns=cols)\n",
    "df['Time'] = new_time_list\n",
    "df['Price'] = new_price_list\n",
    "df['differ_max'] = differ_max_list\n",
    "df['differ_min'] = differ_min_list\n",
    "df.to_csv('bitfinex_coinbase_differ_simple.csv',index=False)"
   ]
  },
  {
   "cell_type": "code",
   "execution_count": null,
   "metadata": {},
   "outputs": [],
   "source": []
  }
 ],
 "metadata": {
  "kernelspec": {
   "display_name": "env (img)",
   "language": "python",
   "name": "img"
  },
  "language_info": {
   "codemirror_mode": {
    "name": "ipython",
    "version": 3
   },
   "file_extension": ".py",
   "mimetype": "text/x-python",
   "name": "python",
   "nbconvert_exporter": "python",
   "pygments_lexer": "ipython3",
   "version": "3.6.7"
  }
 },
 "nbformat": 4,
 "nbformat_minor": 2
}
